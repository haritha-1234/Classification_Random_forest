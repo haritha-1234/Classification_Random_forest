{
 "cells": [
  {
   "cell_type": "code",
   "execution_count": 2,
   "metadata": {},
   "outputs": [],
   "source": [
    "#import all modules for the classification\n",
    "import pandas as pd\n",
    "import numpy as np\n",
    "from sklearn.model_selection import train_test_split\n",
    "from sklearn.ensemble import RandomForestClassifier\n",
    "import matplotlib.pyplot as plt"
   ]
  },
  {
   "cell_type": "code",
   "execution_count": 3,
   "metadata": {},
   "outputs": [],
   "source": [
    "# Load in data\n",
    "data = pd.read_csv('total_data_set.csv', sep=' ')\n",
    "df = pd.DataFrame(data)\n",
    "\n",
    "# Extract the labels\n",
    "#labels = np.array(df.pop('label'))"
   ]
  },
  {
   "cell_type": "code",
   "execution_count": 4,
   "metadata": {},
   "outputs": [],
   "source": [
    "# Import train_test_split function\n",
    "from sklearn.model_selection import train_test_split\n",
    "\n",
    "X=df[['size', 'width', 'length', 'distance']]  # Features\n",
    "y=df['label']  # Labels\n",
    "\n",
    "# Split dataset into training set and test set\n",
    "X_train, X_test, y_train, y_test = train_test_split(X, y, test_size=0.3) # 70% training and 30% test"
   ]
  },
  {
   "cell_type": "code",
   "execution_count": 5,
   "metadata": {},
   "outputs": [
    {
     "name": "stdout",
     "output_type": "stream",
     "text": [
      "16877\n",
      "7234\n"
     ]
    }
   ],
   "source": [
    "print(len(X_train))\n",
    "print(len(X_test))"
   ]
  },
  {
   "cell_type": "code",
   "execution_count": 6,
   "metadata": {},
   "outputs": [],
   "source": [
    "#Import Random Forest Model\n",
    "from sklearn.ensemble import RandomForestClassifier\n",
    "\n",
    "#Create a Gaussian Classifier\n",
    "clf=RandomForestClassifier(n_estimators=100)\n",
    "\n",
    "#Train the model using the training sets \n",
    "clf.fit(X_train,y_train)\n",
    "\n",
    "#check the model in test set\n",
    "y_pred=clf.predict(X_test)"
   ]
  },
  {
   "cell_type": "code",
   "execution_count": 7,
   "metadata": {},
   "outputs": [
    {
     "name": "stdout",
     "output_type": "stream",
     "text": [
      "Accuracy: 0.9579762233895494\n"
     ]
    }
   ],
   "source": [
    "# Model Accuracy, how often is the classifier correct?\n",
    "print(\"Accuracy:\",clf.score(X_test,y_test))"
   ]
  },
  {
   "cell_type": "code",
   "execution_count": 8,
   "metadata": {},
   "outputs": [
    {
     "name": "stdout",
     "output_type": "stream",
     "text": [
      "Accuracy: 0.9579762233895494\n"
     ]
    }
   ],
   "source": [
    "#Import scikit-learn metrics module for accuracy calculation\n",
    "from sklearn import metrics\n",
    "print(\"Accuracy:\",metrics.accuracy_score(y_test, y_pred))"
   ]
  },
  {
   "cell_type": "code",
   "execution_count": 9,
   "metadata": {},
   "outputs": [
    {
     "name": "stdout",
     "output_type": "stream",
     "text": [
      "[0. 1. 1. ... 0. 1. 0.]\n"
     ]
    }
   ],
   "source": [
    "#prediction labels\n",
    "print(y_pred)"
   ]
  },
  {
   "cell_type": "code",
   "execution_count": 10,
   "metadata": {},
   "outputs": [],
   "source": [
    "#prediction probabitities \n",
    "#rf_probs = clf.predict_proba(X_test)[:, 1]\n",
    "#rf_probs"
   ]
  },
  {
   "cell_type": "code",
   "execution_count": 11,
   "metadata": {},
   "outputs": [
    {
     "name": "stdout",
     "output_type": "stream",
     "text": [
      "[[1.   0.  ]\n",
      " [0.01 0.99]\n",
      " [0.26 0.74]\n",
      " ...\n",
      " [0.99 0.01]\n",
      " [0.   1.  ]\n",
      " [1.   0.  ]]\n"
     ]
    }
   ],
   "source": [
    "#prediction probabitities \n",
    "proba = clf.predict_proba(X_test)\n",
    "print(proba)\n",
    "#print(len(pred_proba))\n",
    "#proba[:,0]-------proton\n",
    "#proba[:,1]--------gamma"
   ]
  },
  {
   "cell_type": "code",
   "execution_count": 12,
   "metadata": {},
   "outputs": [
    {
     "data": {
      "text/plain": [
       "723400"
      ]
     },
     "execution_count": 12,
     "metadata": {},
     "output_type": "execute_result"
    }
   ],
   "source": [
    "#calculating confusion matrics\n",
    "#TP,FP,FN,TN\n",
    "samples = [[], [], [], []]\n",
    "\n",
    "treshold = np.arange(0, 1, 0.01)\n",
    "for t in treshold:\n",
    "    selection = proba[:,1] > t\n",
    "    selection0 = y_test[selection] == 1  \n",
    "    samples[0].append(selection0.sum()) # True positive(TP), gamma\n",
    "    \n",
    "    samples[1].append((y_test[~selection] == 1).sum()) #False positive(FP)\n",
    "    samples[2].append((y_test[~selection] == 0).sum()) #True negitive(TN), proton\n",
    "    selection3 = y_test[selection] == 0 \n",
    "    \n",
    "    samples[3].append(selection3.sum()) #False negitive(FN)\n",
    "    \n",
    "samples = np.array(samples)\n",
    "total=np.sum(samples[0]+samples[1]+samples[2]+samples[3])\n",
    "total"
   ]
  },
  {
   "cell_type": "code",
   "execution_count": 13,
   "metadata": {},
   "outputs": [
    {
     "name": "stdout",
     "output_type": "stream",
     "text": [
      "4024\n",
      "3210\n"
     ]
    }
   ],
   "source": [
    "#Calculating total number of photons and protons in the test set\n",
    "n_photo_test = (y_test == 1).sum()\n",
    "n_proto_test = (y_test == 0).sum()\n",
    "print(n_photo_test)\n",
    "print(n_proto_test)"
   ]
  },
  {
   "cell_type": "code",
   "execution_count": 14,
   "metadata": {},
   "outputs": [
    {
     "name": "stdout",
     "output_type": "stream",
     "text": [
      "[4006 4000 3994 3991 3986 3984 3984 3984 3981 3977 3976 3972 3971 3969\n",
      " 3968 3964 3963 3961 3959 3958 3956 3955 3955 3954 3953 3953 3951 3949\n",
      " 3947 3945 3943 3941 3939 3935 3931 3927 3926 3926 3924 3923 3922 3919\n",
      " 3912 3910 3907 3904 3901 3898 3896 3891 3886 3881 3878 3876 3869 3865\n",
      " 3856 3850 3845 3839 3835 3829 3820 3816 3813 3806 3793 3786 3774 3764\n",
      " 3747 3739 3732 3723 3714 3704 3694 3684 3670 3659 3642 3619 3603 3583\n",
      " 3561 3536 3522 3495 3464 3423 3386 3354 3313 3267 3227 3138 3045 2914\n",
      " 2702 2237]\n",
      "[1814 1337 1060  890  777  667  595  542  496  454  433  404  387  370\n",
      "  349  338  325  320  310  301  292  282  272  263  259  247  241  238\n",
      "  231  227  225  220  219  213  210  206  205  201  200  198  195  190\n",
      "  189  184  179  175  175  170  169  168  166  162  158  156  150  146\n",
      "  144  143  140  137  134  128  122  118  115  114  112  109  107  105\n",
      "  100   98   96   94   90   88   86   83   78   75   74   72   69   65\n",
      "   62   61   60   59   53   50   48   43   38   36   31   28   23   16\n",
      "   14    5]\n"
     ]
    }
   ],
   "source": [
    "print(samples[0])\n",
    "n_photo_test\n",
    "print(samples[3])"
   ]
  },
  {
   "cell_type": "code",
   "execution_count": 15,
   "metadata": {},
   "outputs": [
    {
     "name": "stdout",
     "output_type": "stream",
     "text": [
      "[0.99552684 0.99403579 0.99254473 0.9917992  0.99055666 0.99005964\n",
      " 0.99005964 0.99005964 0.98931412 0.98832008 0.98807157 0.98707753\n",
      " 0.98682903 0.98633201 0.9860835  0.98508946 0.98484095 0.98434394\n",
      " 0.98384692 0.98359841 0.98310139 0.98285288 0.98285288 0.98260437\n",
      " 0.98235586 0.98235586 0.98185885 0.98136183 0.98086481 0.98036779\n",
      " 0.97987078 0.97937376 0.97887674 0.9778827  0.97688867 0.97589463\n",
      " 0.97564612 0.97564612 0.97514911 0.9749006  0.97465209 0.97390656\n",
      " 0.972167   0.97166998 0.97092445 0.97017893 0.9694334  0.96868787\n",
      " 0.96819085 0.96694831 0.96570577 0.96446322 0.96371769 0.96322068\n",
      " 0.96148111 0.96048708 0.9582505  0.95675944 0.9555169  0.95402584\n",
      " 0.95303181 0.95154076 0.94930417 0.94831014 0.94756461 0.94582505\n",
      " 0.94259443 0.94085487 0.93787276 0.93538767 0.93116302 0.92917495\n",
      " 0.92743539 0.92519881 0.92296223 0.92047714 0.91799205 0.91550696\n",
      " 0.91202783 0.90929423 0.90506958 0.89935388 0.89537773 0.89040755\n",
      " 0.88494036 0.87872763 0.87524851 0.86853877 0.86083499 0.85064612\n",
      " 0.84145129 0.83349901 0.82331014 0.81187873 0.80193837 0.77982107\n",
      " 0.75670974 0.72415507 0.67147117 0.55591451]\n",
      "[0.56510903 0.4165109  0.33021807 0.27725857 0.24205607 0.20778816\n",
      " 0.18535826 0.16884735 0.15451713 0.14143302 0.13489097 0.1258567\n",
      " 0.12056075 0.1152648  0.10872274 0.10529595 0.10124611 0.09968847\n",
      " 0.09657321 0.09376947 0.09096573 0.08785047 0.0847352  0.08193146\n",
      " 0.08068536 0.07694704 0.07507788 0.0741433  0.07196262 0.07071651\n",
      " 0.07009346 0.06853583 0.0682243  0.06635514 0.06542056 0.06417445\n",
      " 0.06386293 0.06261682 0.0623053  0.06168224 0.06074766 0.05919003\n",
      " 0.0588785  0.05732087 0.05576324 0.05451713 0.05451713 0.0529595\n",
      " 0.05264798 0.05233645 0.0517134  0.05046729 0.04922118 0.04859813\n",
      " 0.04672897 0.04548287 0.04485981 0.04454829 0.04361371 0.04267913\n",
      " 0.04174455 0.03987539 0.03800623 0.03676012 0.03582555 0.03551402\n",
      " 0.03489097 0.03395639 0.03333333 0.03271028 0.03115265 0.0305296\n",
      " 0.02990654 0.02928349 0.02803738 0.02741433 0.02679128 0.0258567\n",
      " 0.02429907 0.02336449 0.02305296 0.02242991 0.02149533 0.02024922\n",
      " 0.01931464 0.01900312 0.01869159 0.01838006 0.0165109  0.01557632\n",
      " 0.01495327 0.01339564 0.01183801 0.01121495 0.00965732 0.00872274\n",
      " 0.00716511 0.00498442 0.00436137 0.00155763]\n",
      "[ 1.32430143  1.54024154  1.72722801  1.88356785  2.0133595   2.17195567\n",
      "  2.29961637  2.40942954  2.51678365  2.62798093  2.69027683  2.78235859\n",
      "  2.84209734  2.90519161  2.99056671  3.03577682  3.09511604  3.11762875\n",
      "  3.16591462  3.21208542  3.25956316  3.31601493  3.3764209   3.4328382\n",
      "  3.45837017  3.54138287  3.58338154  3.60406985  3.65641667  3.68662211\n",
      "  3.70109355  3.74101663  3.74764519  3.79620345  3.81933665  3.85231539\n",
      "  3.86071648  3.89894232  3.90668635  3.92536691  3.95443852  4.00306837\n",
      "  4.00647547  4.05847047  4.11160551  4.15513682  4.15194384  4.20931976\n",
      "  4.21958889  4.22669718  4.24661898  4.29319564  4.34383985  4.36934174\n",
      "  4.44782452  4.50368093  4.52428884  4.53301603  4.57537685  4.61798346\n",
      "  4.66452595  4.76513189  4.86942848  4.94608877  5.0062488   5.01892727\n",
      "  5.0462455   5.10577773  5.13694069  5.17189274  5.27567747  5.31786088\n",
      "  5.36291067  5.4065927   5.5120759   5.55935217  5.6084417   5.69344487\n",
      "  5.85077379  5.94875828  5.96099319  6.00505347  6.10708917  6.25726681\n",
      "  6.36752521  6.37443773  6.40189093  6.40642459  6.69937815  6.81579377\n",
      "  6.88114769  7.20150679  7.5670078   7.66641682  8.16042284  8.34965378\n",
      "  8.93959663 10.25708844 10.16753956 14.08560567]\n"
     ]
    }
   ],
   "source": [
    "##calculate Q-factor and efficiencies\n",
    "\n",
    "#photon efficiencies:TP/Total_test_gamma\n",
    "ph_eff = (samples[0])/n_photo_test \n",
    "print(ph_eff)\n",
    "#proton efficiency:FP/Total_test_proton\n",
    "pro_eff = (samples[3]/n_proto_test)\n",
    "print(pro_eff)\n",
    "#Q-factor\n",
    "Q = ph_eff/np.sqrt(pro_eff)\n",
    "print(Q)"
   ]
  },
  {
   "cell_type": "code",
   "execution_count": 16,
   "metadata": {},
   "outputs": [
    {
     "data": {
      "image/png": "[encoded data removed]",
      "text/plain": [
       "<Figure size 432x288 with 1 Axes>"
      ]
     },
     "metadata": {
      "needs_background": "light"
     },
     "output_type": "display_data"
    }
   ],
   "source": [
    "##photon efficiencies vs cut:\n",
    "plt.plot(treshold, ph_eff, color='red', label=\"ph_eff\")\n",
    "##proton efficiency vs cut\n",
    "plt.plot(treshold, pro_eff, color='green', label='pro_eff')\n",
    "plt.legend(loc='best')\n",
    "plt.xlabel(\"Threshold\", fontsize=13)\n",
    "plt.ylabel(\"Efficiency\", fontsize=13)\n",
    "plt.grid()"
   ]
  },
  {
   "cell_type": "code",
   "execution_count": 17,
   "metadata": {},
   "outputs": [
    {
     "data": {
      "text/plain": [
       "array([1814, 1337, 1060,  890,  777,  667,  595,  542,  496,  454,  433,\n",
       "        404,  387,  370,  349,  338,  325,  320,  310,  301,  292,  282,\n",
       "        272,  263,  259,  247,  241,  238,  231,  227,  225,  220,  219,\n",
       "        213,  210,  206,  205,  201,  200,  198,  195,  190,  189,  184,\n",
       "        179,  175,  175,  170,  169,  168,  166,  162,  158,  156,  150,\n",
       "        146,  144,  143,  140,  137,  134,  128,  122,  118,  115,  114,\n",
       "        112,  109,  107,  105,  100,   98,   96,   94,   90,   88,   86,\n",
       "         83,   78,   75,   74,   72,   69,   65,   62,   61,   60,   59,\n",
       "         53,   50,   48,   43,   38,   36,   31,   28,   23,   16,   14,\n",
       "          5])"
      ]
     },
     "execution_count": 17,
     "metadata": {},
     "output_type": "execute_result"
    }
   ],
   "source": [
    "samples[3]"
   ]
  },
  {
   "cell_type": "code",
   "execution_count": 18,
   "metadata": {},
   "outputs": [
    {
     "data": {
      "text/plain": [
       "array([0.01495327])"
      ]
     },
     "execution_count": 18,
     "metadata": {},
     "output_type": "execute_result"
    }
   ],
   "source": [
    "##proton suppression cut values\n",
    "#samples[3][treshold==0.9]/n_proto_test\n",
    "samples[3][np.isclose(treshold, 0.9, atol=0.001)]/n_proto_test"
   ]
  },
  {
   "cell_type": "code",
   "execution_count": 19,
   "metadata": {},
   "outputs": [
    {
     "data": {
      "text/plain": [
       "array([0.84145129])"
      ]
     },
     "execution_count": 19,
     "metadata": {},
     "output_type": "execute_result"
    }
   ],
   "source": [
    "samples[0][np.isclose(treshold, 0.9, atol=0.001)]/n_photo_test"
   ]
  },
  {
   "cell_type": "code",
   "execution_count": 20,
   "metadata": {},
   "outputs": [
    {
     "data": {
      "text/plain": [
       "<matplotlib.legend.Legend at 0x7f4f306ea310>"
      ]
     },
     "execution_count": 20,
     "metadata": {},
     "output_type": "execute_result"
    },
    {
     "data": {
      "image/png": "[encoded data removed]",
      "text/plain": [
       "<Figure size 432x288 with 1 Axes>"
      ]
     },
     "metadata": {
      "needs_background": "light"
     },
     "output_type": "display_data"
    }
   ],
   "source": [
    "plt.plot(treshold, (samples[0]/n_photo_test)/np.sqrt((samples[3]/n_proto_test)))\n",
    "plt.grid()\n",
    "plt.xlim(0,1)\n",
    "plt.xlabel('treshold')\n",
    "plt.ylabel('Q')\n",
    "tval = 0.9\n",
    "plt.title('Random forest classifier')\n",
    "plt.axvline(tval, color='k', label=f'{tval}')\n",
    "plt.legend()"
   ]
  },
  {
   "cell_type": "code",
   "execution_count": 21,
   "metadata": {},
   "outputs": [
    {
     "data": {
      "image/png": "[encoded data removed]",
      "text/plain": [
       "<Figure size 432x288 with 1 Axes>"
      ]
     },
     "metadata": {
      "needs_background": "light"
     },
     "output_type": "display_data"
    }
   ],
   "source": [
    "##Plot the distribution of probabilities\n",
    "#plt.hist(pred_proba[y_test==0,1], bins=50, alpha=0.5, label='proton')\n",
    "#plt.hist(pred_proba[y_test==1,1], bins=50, alpha=0.5, label ='gamma')\n",
    "plt.hist(proba[y_test==0,1], bins=50, alpha=0.5, label='proton')\n",
    "plt.hist(proba[y_test==1,1], bins=50, alpha=0.5, label ='gamma')\n",
    "plt.yscale('log')\n",
    "plt.ylabel('count')\n",
    "plt.xlabel('prediction probability')\n",
    "plt.legend(loc='best')\n",
    "plt.show()"
   ]
  },
  {
   "cell_type": "code",
   "execution_count": 128,
   "metadata": {},
   "outputs": [
    {
     "data": {
      "image/png": "[encoded data removed]",
      "text/plain": [
       "<Figure size 576x360 with 3 Axes>"
      ]
     },
     "metadata": {
      "needs_background": "light"
     },
     "output_type": "display_data"
    }
   ],
   "source": [
    "##Plotting Q-factor and efficiencies vs cut altogether in the same graph\n",
    "from matplotlib import lines\n",
    "fig, host = plt.subplots(figsize=(8,5))\n",
    "\n",
    "par1 = host.twinx()\n",
    "par2 = host.twinx()\n",
    "\n",
    "host.set_xlim(0, 1)\n",
    "host.set_ylim(0, 20)\n",
    "par1.set_ylim(0, 1)\n",
    "par2.set_ylim(0, 1)\n",
    "\n",
    "host.set_xlabel(\"Threshold\", fontsize=13)\n",
    "host.set_ylabel(\"Q-factor\", fontsize=13)\n",
    "par1.set_ylabel('$\\epsilon_{\\gamma}$', fontsize=13)\n",
    "par2.set_ylabel(\"$\\epsilon_{p}$\", fontsize=13)\n",
    "\n",
    "p1, = host.plot(treshold, Q, color='blue', label=\"Q-factor\")\n",
    "p2, = par1.plot(treshold, ph_eff, color='red', label=r'$\\epsilon_{\\gamma}$')\n",
    "p3, = par2.plot(treshold, pro_eff, color='green', label=r'$\\epsilon_{p}$')\n",
    "\n",
    "lns = [p1, p2, p3]\n",
    "host.legend(handles=lns, loc='best', bbox_to_anchor=(0.01, 0.5, 0.25, 0.5), fontsize=12)\n",
    "\n",
    "plt.title('Random forest classifier')\n",
    "# right, left, top, bottom\n",
    "par2.spines['right'].set_position(('outward', 60))\n",
    "\n",
    "\n",
    "#lgd = []\n",
    "#lgd.append(lines.Line2D([0.9,0.9],[0,20], color = 'k', label = 't-val'))\n",
    "#plt.legend(handles = lgd)\n",
    "tval = 0.9\n",
    "host.axvline(tval, color='k', label=f'{tval}')\n",
    "host.legend(loc='best')\n",
    "                                  \n",
    "host.yaxis.label.set_color(p1.get_color())\n",
    "par1.yaxis.label.set_color(p2.get_color())\n",
    "par2.yaxis.label.set_color(p3.get_color())\n",
    "host.grid()"
   ]
  },
  {
   "cell_type": "code",
   "execution_count": 137,
   "metadata": {},
   "outputs": [
    {
     "data": {
      "text/plain": [
       "723400"
      ]
     },
     "execution_count": 137,
     "metadata": {},
     "output_type": "execute_result"
    }
   ],
   "source": [
    "#calculating confusion matrics\n",
    "#TP,FP,FN,TN\n",
    "samples = [[], [], [], []]\n",
    "\n",
    "treshold = np.arange(0, 1, 0.01)\n",
    "for t in treshold:\n",
    "    selection = proba[:,0] > t\n",
    "    selection0 = y_test[selection] == 0  \n",
    "    samples[0].append(selection0.sum()) # True Negitive(TN), proton\n",
    "    \n",
    "    samples[1].append((y_test[~selection] == 0).sum()) #False positive(FP)\n",
    "    samples[2].append((y_test[~selection] == 1).sum()) # True positive(TP), gamma\n",
    "    selection3 = y_test[selection] == 1 \n",
    "    \n",
    "    samples[3].append(selection3.sum()) #False negitive(FN)\n",
    "    \n",
    "samples = np.array(samples)\n",
    "total=np.sum(samples[0]+samples[1]+samples[2]+samples[3])\n",
    "total"
   ]
  },
  {
   "cell_type": "code",
   "execution_count": 138,
   "metadata": {},
   "outputs": [
    {
     "name": "stdout",
     "output_type": "stream",
     "text": [
      "3980\n",
      "3254\n"
     ]
    }
   ],
   "source": [
    "#Calculating total number of photons and protons in the test set\n",
    "n_photo_test = (y_test == 1).sum()\n",
    "n_proto_test = (y_test == 0).sum()\n",
    "print(n_photo_test)\n",
    "print(n_proto_test)"
   ]
  },
  {
   "cell_type": "code",
   "execution_count": 139,
   "metadata": {},
   "outputs": [
    {
     "name": "stdout",
     "output_type": "stream",
     "text": [
      "[3249 3244 3239 3238 3232 3231 3229 3224 3221 3219 3212 3210 3206 3204\n",
      " 3197 3195 3192 3188 3185 3183 3180 3173 3168 3165 3164 3163 3159 3155\n",
      " 3154 3153 3148 3148 3143 3140 3137 3136 3132 3129 3126 3123 3122 3119\n",
      " 3114 3111 3111 3109 3105 3103 3100 3093 3086 3082 3076 3074 3073 3068\n",
      " 3065 3062 3059 3051 3046 3043 3040 3037 3036 3030 3024 3017 3016 3011\n",
      " 3005 3001 2993 2990 2981 2978 2973 2963 2958 2950 2938 2932 2915 2903\n",
      " 2892 2885 2870 2850 2827 2808 2774 2746 2713 2660 2600 2510 2346 2143\n",
      " 1824 1292]\n",
      "[1746 1291 1098  972  887  806  739  695  655  628  601  560  527  499\n",
      "  475  463  438  421  403  387  369  350  338  322  308  298  290  276\n",
      "  271  259  252  241  237  223  217  208  205  195  192  187  184  179\n",
      "  173  167  161  156  151  145  137  134  129  123  118  115  114  112\n",
      "  109  103   94   94   94   90   85   81   80   79   78   77   75   75\n",
      "   73   71   70   69   67   65   61   60   59   58   58   58   55   52\n",
      "   50   50   50   50   48   47   44   41   38   36   34   31   31   27\n",
      "   22   13]\n",
      "[   5   10   15   16   22   23   25   30   33   35   42   44   48   50\n",
      "   57   59   62   66   69   71   74   81   86   89   90   91   95   99\n",
      "  100  101  106  106  111  114  117  118  122  125  128  131  132  135\n",
      "  140  143  143  145  149  151  154  161  168  172  178  180  181  186\n",
      "  189  192  195  203  208  211  214  217  218  224  230  237  238  243\n",
      "  249  253  261  264  273  276  281  291  296  304  316  322  339  351\n",
      "  362  369  384  404  427  446  480  508  541  594  654  744  908 1111\n",
      " 1430 1962]\n",
      "[2234 2689 2882 3008 3093 3174 3241 3285 3325 3352 3379 3420 3453 3481\n",
      " 3505 3517 3542 3559 3577 3593 3611 3630 3642 3658 3672 3682 3690 3704\n",
      " 3709 3721 3728 3739 3743 3757 3763 3772 3775 3785 3788 3793 3796 3801\n",
      " 3807 3813 3819 3824 3829 3835 3843 3846 3851 3857 3862 3865 3866 3868\n",
      " 3871 3877 3886 3886 3886 3890 3895 3899 3900 3901 3902 3903 3905 3905\n",
      " 3907 3909 3910 3911 3913 3915 3919 3920 3921 3922 3922 3922 3925 3928\n",
      " 3930 3930 3930 3930 3932 3933 3936 3939 3942 3944 3946 3949 3949 3953\n",
      " 3958 3967]\n"
     ]
    }
   ],
   "source": [
    "print(samples[0])\n",
    "#n_photo_test\n",
    "print(samples[3])\n",
    "print(samples[1])\n",
    "print(samples[2])"
   ]
  },
  {
   "cell_type": "code",
   "execution_count": 141,
   "metadata": {},
   "outputs": [
    {
     "name": "stdout",
     "output_type": "stream",
     "text": [
      "[0.56130653 0.67562814 0.7241206  0.75577889 0.77713568 0.79748744\n",
      " 0.81432161 0.82537688 0.83542714 0.84221106 0.84899497 0.85929648\n",
      " 0.86758794 0.87462312 0.88065327 0.88366834 0.88994975 0.89422111\n",
      " 0.89874372 0.90276382 0.90728643 0.9120603  0.91507538 0.91909548\n",
      " 0.92261307 0.92512563 0.92713568 0.93065327 0.93190955 0.93492462\n",
      " 0.93668342 0.93944724 0.94045226 0.94396985 0.94547739 0.94773869\n",
      " 0.94849246 0.95100503 0.95175879 0.95301508 0.95376884 0.95502513\n",
      " 0.95653266 0.9580402  0.95954774 0.96080402 0.9620603  0.96356784\n",
      " 0.96557789 0.96633166 0.96758794 0.96909548 0.97035176 0.97110553\n",
      " 0.97135678 0.9718593  0.97261307 0.9741206  0.97638191 0.97638191\n",
      " 0.97638191 0.97738693 0.97864322 0.97964824 0.9798995  0.98015075\n",
      " 0.98040201 0.98065327 0.98115578 0.98115578 0.98165829 0.9821608\n",
      " 0.98241206 0.98266332 0.98316583 0.98366834 0.98467337 0.98492462\n",
      " 0.98517588 0.98542714 0.98542714 0.98542714 0.9861809  0.98693467\n",
      " 0.98743719 0.98743719 0.98743719 0.98743719 0.9879397  0.98819095\n",
      " 0.98894472 0.98969849 0.99045226 0.99095477 0.99145729 0.99221106\n",
      " 0.99221106 0.99321608 0.99447236 0.99673367]\n",
      "[0.00153657 0.00307314 0.00460971 0.00491703 0.00676091 0.00706822\n",
      " 0.00768285 0.00921942 0.01014136 0.01075599 0.01290719 0.01352182\n",
      " 0.01475108 0.0153657  0.0175169  0.01813153 0.01905347 0.02028273\n",
      " 0.02120467 0.0218193  0.02274124 0.02489244 0.02642901 0.02735095\n",
      " 0.02765827 0.02796558 0.02919484 0.03042409 0.03073141 0.03103872\n",
      " 0.03257529 0.03257529 0.03411186 0.0350338  0.03595575 0.03626306\n",
      " 0.03749232 0.03841426 0.0393362  0.04025814 0.04056546 0.0414874\n",
      " 0.04302397 0.04394591 0.04394591 0.04456054 0.0457898  0.04640443\n",
      " 0.04732637 0.04947757 0.05162876 0.05285802 0.05470191 0.05531653\n",
      " 0.05562385 0.05716042 0.05808236 0.0590043  0.05992624 0.06238476\n",
      " 0.06392133 0.06484327 0.06576521 0.06668715 0.06699447 0.06883835\n",
      " 0.07068224 0.07283344 0.07314075 0.07467732 0.0765212  0.07775046\n",
      " 0.08020897 0.08113092 0.08389674 0.08481868 0.08635526 0.0894284\n",
      " 0.09096497 0.09342348 0.09711125 0.09895513 0.10417947 0.10786724\n",
      " 0.1112477  0.11339889 0.1180086  0.12415489 0.13122311 0.13706208\n",
      " 0.14751076 0.15611555 0.16625691 0.18254456 0.20098341 0.22864167\n",
      " 0.27904118 0.34142594 0.43945913 0.60295022]\n",
      "[14.31936861 12.18755264 10.6653239  10.77813311  9.45135948  9.48568518\n",
      "  9.29040676  8.59608     8.29584028  8.12074157  7.47290134  7.38967724\n",
      "  7.1433456   7.055775    6.65390041  6.56254153  6.44730795  6.27887334\n",
      "  6.17191728  6.11158343  6.0164087   5.78082494  5.62880778  5.5574351\n",
      "  5.5476253   5.53208431  5.42613089  5.33554863  5.31597017  5.30670182\n",
      "  5.18977672  5.2050899   5.09194894  5.04329615  4.98616895  4.97687098\n",
      "  4.89849583  4.85217638  4.79877832  4.74977347  4.73549018  4.68874579\n",
      "  4.61152493  4.57008722  4.57727855  4.5515528   4.49591337  4.47303809\n",
      "  4.43849491  4.34432237  4.25838163  4.2151314   4.14885227  4.12894357\n",
      "  4.11858719  4.06495456  4.03569161  4.01024484  3.98851466  3.9091333\n",
      "  3.86186271  3.83825722  3.81615739  3.79357846  3.78583832  3.73574861\n",
      "  3.68764452  3.63370846  3.62792468  3.59040635  3.54870125  3.52233868\n",
      "  3.46882353  3.4499401   3.39433128  3.37755887  3.35079459  3.29355769\n",
      "  3.26645507  3.22401089  3.16220303  3.13260297  3.05538199  3.0049941\n",
      "  2.96049251  2.93227751  2.87443598  2.80238352  2.72725203  2.66920678\n",
      "  2.57489885  2.50483906  2.42909047  2.31936653  2.21153547  2.0750395\n",
      "  1.87832142  1.69979085  1.50014581  1.28362569]\n"
     ]
    }
   ],
   "source": [
    "##calculate Q-factor and efficiencies\n",
    "\n",
    "#photon efficiencies:TP/Total_test_gamma\n",
    "ph_eff = (samples[2])/n_photo_test \n",
    "print(ph_eff)\n",
    "#proton efficiency:FP/Total_test_proton\n",
    "pro_eff = (samples[1]/n_proto_test)\n",
    "print(pro_eff)\n",
    "#Q-factor\n",
    "Q = ph_eff/np.sqrt(pro_eff)\n",
    "print(Q)"
   ]
  },
  {
   "cell_type": "code",
   "execution_count": 142,
   "metadata": {},
   "outputs": [
    {
     "data": {
      "image/png": "[encoded data removed]",
      "text/plain": [
       "<Figure size 432x288 with 1 Axes>"
      ]
     },
     "metadata": {
      "needs_background": "light"
     },
     "output_type": "display_data"
    }
   ],
   "source": [
    "##photon efficiencies vs cut:\n",
    "plt.plot(treshold, ph_eff, color='red', label=\"ph_eff\")\n",
    "##proton efficiency vs cut\n",
    "plt.plot(treshold, pro_eff, color='green', label='pro_eff')\n",
    "plt.legend(loc='best')\n",
    "plt.xlabel(\"Threshold\", fontsize=13)\n",
    "plt.ylabel(\"Efficiency\", fontsize=13)\n",
    "plt.grid()"
   ]
  },
  {
   "cell_type": "code",
   "execution_count": null,
   "metadata": {},
   "outputs": [],
   "source": []
  },
  {
   "cell_type": "code",
   "execution_count": null,
   "metadata": {},
   "outputs": [],
   "source": []
  },
  {
   "cell_type": "code",
   "execution_count": 135,
   "metadata": {},
   "outputs": [
    {
     "data": {
      "image/png": "[encoded data removed]",
      "text/plain": [
       "<Figure size 432x288 with 1 Axes>"
      ]
     },
     "metadata": {
      "needs_background": "light"
     },
     "output_type": "display_data"
    }
   ],
   "source": [
    "##Q-factor vs cut\n",
    "plt.plot(treshold, Q)\n",
    "plt.xlabel(\"Threshold\", fontsize=13)\n",
    "plt.ylabel(\"Q-factor\", fontsize=13)\n",
    "plt.grid()"
   ]
  },
  {
   "cell_type": "code",
   "execution_count": 519,
   "metadata": {},
   "outputs": [],
   "source": [
    "#Calculation Q-factor and plotting\n",
    "#plt.plot(treshold, ((samples[0]/n_photo_test)/np.sqrt(samples[3]/n_proto_test)))\n",
    "#plt.plot(treshold, (samples[0]/n_proto_test))\n",
    "#plt.plot(treshold, (samples[3]/n_proto_test))\n",
    "#plt.ylabel('Q-factor')\n",
    "#plt.xlabel('Threshold')\n",
    "#plt.xlim(0,1)\n",
    "#plt.grid()\n",
    "#plt.savefig('Q-factor_shower_parameter.png')"
   ]
  },
  {
   "cell_type": "code",
   "execution_count": null,
   "metadata": {},
   "outputs": [],
   "source": []
  },
  {
   "cell_type": "code",
   "execution_count": 520,
   "metadata": {},
   "outputs": [
    {
     "name": "stdout",
     "output_type": "stream",
     "text": [
      "[0.5987005  0.43502475 0.34158416 0.28929455 0.24659653 0.21410891\n",
      " 0.19368812 0.17759901 0.15965347 0.14913366 0.1404703  0.13149752\n",
      " 0.12530941 0.11819307 0.11509901 0.11138614 0.10581683 0.10272277\n",
      " 0.09993812 0.09684406 0.09344059 0.09034653 0.08756188 0.08508663\n",
      " 0.0835396  0.08013614 0.0782797  0.07611386 0.07487624 0.07487624\n",
      " 0.0730198  0.07054455 0.06961634 0.06837871 0.06683168 0.06466584\n",
      " 0.06311881 0.06280941 0.06188119 0.06095297 0.05940594 0.05785891\n",
      " 0.05662129 0.05538366 0.05476485 0.05352723 0.0522896  0.05136139\n",
      " 0.05105198 0.04888614 0.04795792 0.04733911 0.04579208 0.04362624\n",
      " 0.04331683 0.04238861 0.0414604  0.04022277 0.03929455 0.03898515\n",
      " 0.03836634 0.0362005  0.03496287 0.03496287 0.03434406 0.03403465\n",
      " 0.03279703 0.03217822 0.03125    0.03063119 0.02970297 0.02815594\n",
      " 0.02691832 0.02568069 0.02506188 0.02475248 0.02382426 0.02227723\n",
      " 0.0210396  0.01918317 0.01825495 0.01701733 0.01670792 0.01639851\n",
      " 0.01608911 0.01485149 0.01454208 0.01299505 0.01144802 0.01113861\n",
      " 0.01082921 0.00990099 0.00897277 0.00804455 0.00680693 0.00556931\n",
      " 0.0049505  0.00402228 0.00309406 0.00123762]\n",
      "[0.99625187 0.99475262 0.99450275 0.99325337 0.99275362 0.99225387\n",
      " 0.99175412 0.99150425 0.99075462 0.99050475 0.98975512 0.98925537\n",
      " 0.9890055  0.9890055  0.9890055  0.9890055  0.9890055  0.98875562\n",
      " 0.98825587 0.98825587 0.988006   0.98750625 0.98675662 0.98625687\n",
      " 0.986007   0.98525737 0.98450775 0.984008   0.98350825 0.9830085\n",
      " 0.9830085  0.98275862 0.98275862 0.982009   0.98125937 0.9810095\n",
      " 0.9810095  0.97976012 0.97876062 0.97776112 0.97726137 0.97626187\n",
      " 0.97601199 0.97551224 0.97451274 0.97301349 0.97251374 0.97151424\n",
      " 0.97076462 0.97051474 0.96926537 0.96801599 0.96651674 0.96551724\n",
      " 0.96401799 0.96251874 0.96076962 0.95902049 0.95677161 0.95477261\n",
      " 0.95302349 0.95177411 0.95127436 0.94902549 0.94752624 0.94552724\n",
      " 0.94277861 0.94127936 0.93953023 0.93753123 0.93553223 0.93253373\n",
      " 0.92928536 0.92703648 0.92278861 0.91904048 0.9157921  0.91204398\n",
      " 0.9097951  0.90804598 0.90254873 0.89730135 0.89205397 0.88605697\n",
      " 0.88055972 0.87581209 0.86856572 0.86131934 0.85557221 0.84707646\n",
      " 0.83733133 0.82658671 0.81584208 0.8025987  0.78935532 0.76886557\n",
      " 0.74337831 0.7113943  0.65767116 0.53973013]\n",
      "[ 1.28755071  1.50819713  1.70159863  1.84667266  1.99916204  2.14439819\n",
      "  2.25347386  2.35274202  2.47957319  2.56488985  2.64079998  2.72803306\n",
      "  2.79387435  2.87675383  2.91516346  2.96335124  3.04033423  3.08500307\n",
      "  3.12610685  3.17565204  3.23215207  3.2853686   3.33466728  3.38111055\n",
      "  3.411409    3.4804507   3.51879975  3.56670138  3.59423111  3.59240477\n",
      "  3.63778431  3.70011408  3.72469983  3.75538965  3.79570645  3.85776478\n",
      "  3.90475512  3.90937575  3.934569    3.96036603  4.00955147  4.05864625\n",
      "  4.10171316  4.1451656   4.16424781  4.20563412  4.2529284   4.28677613\n",
      "  4.29642903  4.38944154  4.42601134  4.44910333  4.51662672  4.62259828\n",
      "  4.63187464  4.67503199  4.71848454  4.78180527  4.82660877  4.83559987\n",
      "  4.86551077  5.00237947  5.08747452  5.07544739  5.11287801  5.1252302\n",
      "  5.20585976  5.24731991  5.3147856   5.35678017  5.42823718  5.55750076\n",
      "  5.66402477  5.78486802  5.82901791  5.84151267  5.93317568  6.11061903\n",
      "  6.272271    6.55613171  6.68005945  6.87848274  6.90128445  6.91925583\n",
      "  6.94213124  7.18664174  7.20260222  7.55570912  7.99634431  8.02614571\n",
      "  8.04635144  8.30709359  8.61276859  8.94844255  9.56746489 10.30267109\n",
      " 10.56539092 11.21693964 11.82345701 15.34201303]\n"
     ]
    }
   ],
   "source": [
    "##photon efficiency\n",
    "ph_eff = (samples[0]/n_photo_test)\n",
    "##hadron efficiency\n",
    "pro_eff = (samples[3]/n_proto_test)\n",
    "Q = (ph_eff/np.sqrt(pro_eff))\n",
    "print(pro_eff)\n",
    "print(ph_eff)\n",
    "print(Q)"
   ]
  },
  {
   "cell_type": "code",
   "execution_count": 521,
   "metadata": {},
   "outputs": [
    {
     "data": {
      "image/png": "[encoded data removed]",
      "text/plain": [
       "<Figure size 576x360 with 3 Axes>"
      ]
     },
     "metadata": {
      "needs_background": "light"
     },
     "output_type": "display_data"
    }
   ],
   "source": [
    "fig, host = plt.subplots(figsize=(8,5))\n",
    "\n",
    "par1 = host.twinx()\n",
    "par2 = host.twinx()\n",
    "\n",
    "host.set_xlim(0, 1)\n",
    "host.set_ylim(0, 20)\n",
    "par1.set_ylim(0, 1)\n",
    "par2.set_ylim(0, 0.8)\n",
    "\n",
    "host.set_xlabel(\"Threshold\", fontsize=13)\n",
    "host.set_ylabel(\"Q-factor\", fontsize=13)\n",
    "par1.set_ylabel('$\\epsilon_{\\gamma}$', fontsize=13)\n",
    "par2.set_ylabel(\"$\\epsilon_{p}$\", fontsize=13)\n",
    "\n",
    "p1, = host.plot(treshold, Q, color='blue', label=\"Q-factor\")\n",
    "p2, = par1.plot(treshold, ph_eff, color='red', label=r'$\\epsilon_{\\gamma}$')\n",
    "p3, = par2.plot(treshold, pro_eff, color='green', label=r'$\\epsilon_{p}$')\n",
    "\n",
    "lns = [p1, p2, p3]\n",
    "host.legend(handles=lns, loc='best', bbox_to_anchor=(0.01, 0.5, 0.25, 0.5), fontsize=12)\n",
    "\n",
    "plt.title('Random forest classifier')\n",
    "# right, left, top, bottom\n",
    "par2.spines['right'].set_position(('outward', 60))\n",
    "                                  \n",
    "host.yaxis.label.set_color(p1.get_color())\n",
    "par1.yaxis.label.set_color(p2.get_color())\n",
    "par2.yaxis.label.set_color(p3.get_color())\n",
    "host.grid()"
   ]
  },
  {
   "cell_type": "code",
   "execution_count": 522,
   "metadata": {},
   "outputs": [],
   "source": [
    "#calculating confusion matrics\n",
    "#TP,TN,FP,FN\n",
    "#samples = [[], [], [], []]\n",
    "\n",
    "#treshold = np.arange(0, 1, 0.01)\n",
    "#for t in treshold:\n",
    "#    sel = proba[:,0] > t\n",
    "#    sel0 = y_test[sel] == 0\n",
    "#    samples[0].append(sel0.sum()) # True positive\n",
    "    \n",
    "#    samples[1].append((y_test[~sel] == 1).sum()) #False negitive\n",
    "#    samples[2].append((y_test[~sel] == 0).sum()) #False positive\n",
    "#    sel3 = y_test[sel] == 1 \n",
    "    \n",
    "#    samples[3].append(sel3.sum()) #True negitive\n",
    "    \n",
    "#samples = np.array(samples)\n",
    "#print(len(samples[0]))\n",
    "#print(len(samples[1]))\n",
    "#print(len(samples[2]))\n",
    "#print(len(samples[3]))"
   ]
  },
  {
   "cell_type": "code",
   "execution_count": 523,
   "metadata": {},
   "outputs": [
    {
     "data": {
      "image/png": "[encoded data removed]",
      "text/plain": [
       "<Figure size 432x288 with 1 Axes>"
      ]
     },
     "metadata": {
      "needs_background": "light"
     },
     "output_type": "display_data"
    }
   ],
   "source": [
    "plt.hist(rf_probs, bins=50)\n",
    "plt.yscale('log')\n",
    "plt.ylabel('count')\n",
    "plt.xlabel('prediction probability')\n",
    "plt.show()"
   ]
  },
  {
   "cell_type": "code",
   "execution_count": 17,
   "metadata": {},
   "outputs": [
    {
     "name": "stderr",
     "output_type": "stream",
     "text": [
      "<ipython-input-17-7b92613c1b7d>:4: MatplotlibDeprecationWarning: The 'nonposy' parameter of __init__() has been renamed 'nonpositive' since Matplotlib 3.3; support for the old name will be dropped two minor releases later.\n",
      "  plt.yscale('log', nonposy='clip')\n"
     ]
    },
    {
     "data": {
      "image/png": "[encoded data removed]",
      "text/plain": [
       "<Figure size 432x288 with 1 Axes>"
      ]
     },
     "metadata": {
      "needs_background": "light"
     },
     "output_type": "display_data"
    }
   ],
   "source": [
    "#Histogram showing the gamm and proton predictions from the network\n",
    "plt.hist(rf_probs[y_pred==1], bins=20, alpha=0.5, label='gamma')\n",
    "plt.hist(rf_probs[y_pred==0], bins=20, alpha=0.5, label='proton')\n",
    "plt.yscale('log', nonposy='clip')\n",
    "plt.xlabel('probability')\n",
    "plt.ylabel('counts')\n",
    "plt.legend(loc='best')\n",
    "plt.show()\n",
    "#print(len(y_score[test_y==0]))\n",
    "#print(len(y_score[test_y==1]))"
   ]
  },
  {
   "cell_type": "code",
   "execution_count": 21,
   "metadata": {},
   "outputs": [
    {
     "data": {
      "text/plain": [
       "0.9618468343931434"
      ]
     },
     "execution_count": 21,
     "metadata": {},
     "output_type": "execute_result"
    }
   ],
   "source": [
    "clf.score(X_test, y_test)"
   ]
  },
  {
   "cell_type": "code",
   "execution_count": null,
   "metadata": {},
   "outputs": [],
   "source": []
  },
  {
   "cell_type": "code",
   "execution_count": null,
   "metadata": {},
   "outputs": [],
   "source": []
  },
  {
   "cell_type": "code",
   "execution_count": null,
   "metadata": {},
   "outputs": [],
   "source": []
  },
  {
   "cell_type": "markdown",
   "metadata": {},
   "source": [
    " "
   ]
  },
  {
   "cell_type": "code",
   "execution_count": null,
   "metadata": {},
   "outputs": [],
   "source": []
  }
 ],
 "metadata": {
  "kernelspec": {
   "display_name": "Python 3",
   "language": "python",
   "name": "python3"
  },
  "language_info": {
   "codemirror_mode": {
    "name": "ipython",
    "version": 3
   },
   "file_extension": ".py",
   "mimetype": "text/x-python",
   "name": "python",
   "nbconvert_exporter": "python",
   "pygments_lexer": "ipython3",
   "version": "3.8.5"
  }
 },
 "nbformat": 4,
 "nbformat_minor": 4
}
